{
  "nbformat": 4,
  "nbformat_minor": 0,
  "metadata": {
    "colab": {
      "provenance": []
    },
    "kernelspec": {
      "name": "python3",
      "display_name": "Python 3"
    },
    "language_info": {
      "name": "python"
    }
  },
  "cells": [
    {
      "cell_type": "code",
      "execution_count": null,
      "metadata": {
        "id": "43IAx7tR5Dd3"
      },
      "outputs": [],
      "source": [
        "from tensorflow.keras.preprocessing.image import ImageDataGenerator\n",
        "# Testing Datagen\n",
        "test_datagen = ImageDataGenerator(rescale=1/255)\n",
        "# Training Datagen\n",
        "train_datagen = ImageDataGenerator(rescale=1/255,zoom_range=0.2,horizontal_flip=True,vertical_flip=False)\n",
        "# Training Dataset\n",
        "x_train=train_datagen.flow_from_directory(r'/content/drive/MyDrive/Dataset/training_set',target_size=(64,64), class_mode='categorical',batch_size=900)\n",
        "# Testing Dataset\n",
        "x_test=test_datagen.flow_from_directory(r'/content/drive/MyDrive/Dataset/test_set',target_size=(64,64), class_mode='categorical',batch_size=900)\n",
        "print(\"Len x-train : \",len(x_train))\n",
        "print(\"Len x-test : \", len(x_test))\n",
        "# The Class Indices in Training Dataset\n",
        "x_train.class_indices\n",
        "traindf=pd.read_csv('/content/drive/images_and_labels.txt',dtype=str,sep='\\s')\n",
        "traindf.columns = ['image','label','none1','none2','none3']\n",
        "traindf.drop(['none1', 'none2','none3'], axis=1)\n",
        "datagen=ImageDataGenerator(rescale=1./255.,validation_split=0.25)\n",
        "train_generator=datagen.flow_from_dataframe\n",
        "(\n",
        "  dataframe=traindf,\n",
        "  directory=\"/content/drive/\",\n",
        "  x_col=\"image\",\n",
        "  y_col=\"label\",\n",
        "  subset=\"training\",\n",
        "  batch_size=32,\n",
        "  seed=42,\n",
        "  shuffle=True,\n",
        "  class_mode=\"categorical\",\n",
        "  target_size=(150,150)\n",
        ")\n",
        "validation_generator=datagen.flow_from_dataframe\n",
        "(\n",
        "  dataframe=traindf,\n",
        "  directory=\"/content/drive/\",\n",
        "  x_col=\"image\",\n",
        "  y_col=\"label\",\n",
        "  subset=\"validation\",\n",
        "  batch_size=32,\n",
        "  seed=42,\n",
        "  shuffle=True,\n",
        "  class_mode=\"categorical\",\n",
        "  target_size=(150,150)\n",
        ")"
      ]
    }
  ]
}